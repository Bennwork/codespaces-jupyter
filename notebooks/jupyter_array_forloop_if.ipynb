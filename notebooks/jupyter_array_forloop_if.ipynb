{
 "cells": [
  {
   "cell_type": "code",
   "execution_count": 7,
   "metadata": {},
   "outputs": [
    {
     "name": "stdout",
     "output_type": "stream",
     "text": [
      "2\n",
      "4\n",
      "6\n",
      "8\n",
      "10\n",
      "1\n",
      "1\n",
      "2\n",
      "3\n",
      "4\n"
     ]
    },
    {
     "data": {
      "text/plain": [
       "5"
      ]
     },
     "execution_count": 7,
     "metadata": {},
     "output_type": "execute_result"
    }
   ],
   "source": [
    "zahlen = [1, 2, 3, 4, 5, 6, 7, 8, 9 ,10]\n",
    "for i in zahlen:\n",
    "    if i % 2 == 0:\n",
    "        print(i)\n",
    "i = 0\n",
    "b = 9\n",
    "while len(zahlen) > 5:\n",
    "    print(zahlen[i])\n",
    "    zahlen.pop(b)\n",
    "    i += i \n",
    "    b -=b\n",
    "\n",
    "\n",
    "def fib(a): \n",
    "    if a <= 1:\n",
    "        return 1\n",
    "    else:\n",
    "        return fib(a - 1) + fib(a - 2)\n",
    "\n",
    "fib(4)"
   ]
  },
  {
   "cell_type": "markdown",
   "metadata": {},
   "source": [
    "Der Code Oben Zeigt erst das zusammenspiel von Arrays und schleifen und danach ein Beispiel einer funktion, welche die Fibonacci-Folge errechnet. "
   ]
  }
 ],
 "metadata": {
  "kernelspec": {
   "display_name": "Python 3",
   "language": "python",
   "name": "python3"
  },
  "language_info": {
   "codemirror_mode": {
    "name": "ipython",
    "version": 3
   },
   "file_extension": ".py",
   "mimetype": "text/x-python",
   "name": "python",
   "nbconvert_exporter": "python",
   "pygments_lexer": "ipython3",
   "version": "3.11.7"
  }
 },
 "nbformat": 4,
 "nbformat_minor": 2
}
